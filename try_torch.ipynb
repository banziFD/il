{
 "cells": [
  {
   "cell_type": "code",
   "execution_count": 1,
   "metadata": {},
   "outputs": [],
   "source": [
    "import torch\n",
    "from torch.autograd import Variable"
   ]
  },
  {
   "cell_type": "code",
   "execution_count": 7,
   "metadata": {},
   "outputs": [
    {
     "name": "stdout",
     "output_type": "stream",
     "text": [
      "Variable containing:\n",
      " 0.2107\n",
      "[torch.FloatTensor of size 1]\n",
      "\n"
     ]
    }
   ],
   "source": [
    "x = Variable(torch.Tensor([1,0.1,0.1]))\n",
    "y = Variable(torch.Tensor([1, 0, 0]))\n",
    "loss = torch.nn.BCELoss(size_average = False)\n",
    "print(loss(x, y))\n",
    "import math\n",
    "x = [0.9, 0.3, 0.3]\n",
    "y = [1,0,0]\n",
    "l = 0\n",
    "for i in range(3):\n",
    "    l = l + (y[i]*math.log(x[i]) + (1 - y[i]) * math.log(1 - x[i]))\n",
    "print(l)"
   ]
  },
  {
   "cell_type": "code",
   "execution_count": 105,
   "metadata": {},
   "outputs": [],
   "source": [
    "a = torch.ones(20).byte()\n",
    "b = torch.ones(20).byte()\n",
    "x = torch.autograd.Variable(torch.randn(20))\n",
    "y = torch.autograd.Variable(torch.randn(20))"
   ]
  },
  {
   "cell_type": "code",
   "execution_count": 131,
   "metadata": {},
   "outputs": [
    {
     "name": "stdout",
     "output_type": "stream",
     "text": [
      "\n",
      " 0.0000  0.0000  0.0000  0.0000  0.0000  0.0642 -1.3676 -0.6596  0.8607 -0.6770\n",
      " 0.0000  0.0000  0.0000  0.0000 -0.0000 -0.0043 -1.5437 -1.2847  0.1719 -0.0879\n",
      "-0.0000  0.0000 -0.0000  0.0000  0.0000  0.7760 -1.1196  0.5875  1.6061 -0.2051\n",
      "-0.0000 -0.0000 -0.0000  0.0000 -0.0000 -0.8308  1.8695  1.0989 -0.6323 -0.2710\n",
      "-0.0000  0.0000  0.0000  0.0000 -0.0000  0.5616 -0.3664  0.6558 -1.4888  1.3330\n",
      " 0.0000  0.0000 -0.0000  0.0000 -0.0000  2.2926  0.7609 -1.1260  0.2361 -1.0416\n",
      " 0.0000 -0.0000 -0.0000 -0.0000 -0.0000  0.7819 -1.2769  0.8314  0.4111  0.7444\n",
      "-0.0000  0.0000 -0.0000  0.0000  0.0000  1.2210 -0.2559 -0.1918 -0.8429 -0.5937\n",
      "-0.0000  0.0000 -0.0000  0.0000 -0.0000  1.3327  0.0846 -1.4980 -1.0064 -0.4271\n",
      "-0.0000  0.0000  0.0000  0.0000 -0.0000 -0.2642  0.6486  0.8326  0.0350 -0.3656\n",
      " 0.0000  0.0000 -0.0000  0.0000  0.0000  0.0864 -0.0272 -0.6516  0.8482  0.8268\n",
      "-0.0000  0.0000 -0.0000  0.0000  0.0000  1.6752  0.3201  0.0014 -0.0599 -0.3782\n",
      " 0.0000  0.0000  0.0000  0.0000 -0.0000  0.1592  0.0918 -0.6994 -1.4951 -1.2060\n",
      "-0.0000  0.0000  0.0000 -0.0000  0.0000 -1.3830 -0.0894  0.1347 -1.8652 -0.2448\n",
      "[torch.FloatTensor of size 14x10]\n",
      "\n"
     ]
    }
   ],
   "source": [
    "a = torch.randn(14,10)\n",
    "b = torch.Tensor([0,0,0,0,0,1,1,1,1,1])\n",
    "c = a*b\n",
    "print(c)"
   ]
  },
  {
   "cell_type": "code",
   "execution_count": 2,
   "metadata": {},
   "outputs": [
    {
     "name": "stdout",
     "output_type": "stream",
     "text": [
      "Mixed class sequence: \n",
      "[(4, 7), (8, 5), (6, 2), (1, 3), (9, 0)]\n",
      "Creating training/validation data\n",
      "apply training algorithm...\n"
     ]
    }
   ],
   "source": [
    "import utils_data\n",
    "import utils_resnet\n",
    "import utils_icarl\n",
    "import numpy as np\n",
    "import torch\n",
    "from torch.utils.data import DataLoader\n",
    "from torch.autograd import Variable\n",
    "######### Modifiable Settings ##########\n",
    "# load all params into dict for convience\n",
    "batch_size = 16\n",
    "nb_val = 50\n",
    "nb_cl = 2\n",
    "nb_group = 5\n",
    "nb_proto = 20\n",
    "epochs = 60\n",
    "lr_old = 2\n",
    "lr_start = [20, 30, 40, 50]\n",
    "lr_fractor = 5\n",
    "gpu = False\n",
    "wght_decay = 0.00001\n",
    "param = {\n",
    "    'batch_size': 64,            # Batch size\n",
    "    'nb_val': 50,                # Validation sample per class\n",
    "    'nb_cl': 2,                 # Classes per group\n",
    "    'nb_group': 5,             # Number of groups\n",
    "    'nb_proto': 20,              # Number of prototypes per class\n",
    "    'epoch': 60,                # Total number of epochs\n",
    "    'lr_old': 2,                 # Initial learning rate\n",
    "    'lr_start': [20, 30, 40, 50],# Epochs where learning rate gets decreased\n",
    "    'lr_factor': 5,              # Learning rate decrease factor\n",
    "    'gpu': False,                # Use gpu for training\n",
    "    'wght_decay': 0.00001        # Weight Decay\n",
    "}\n",
    "########################################\n",
    "\n",
    "######### Paths  ##########\n",
    "# Working space\n",
    "dataset_path = \"/mnt/e/dataset/cifar-10-python\"\n",
    "work_path = '/mnt/e/ilex'\n",
    "###########################\n",
    "\n",
    "# Read label and random mixing\n",
    "label_name, label_dict = utils_data.parse_meta(dataset_path)\n",
    "mixing = utils_data.generate_mixing(nb_group, nb_cl)\n",
    "# fix mixing for testing\n",
    "mixing = [(4, 7), (8, 5), (6, 2), (1, 3), (9, 0)] \n",
    "print('Mixed class sequence: ')\n",
    "print(mixing)\n",
    "\n",
    "### Preparing the files for the training/validation ###\n",
    "print(\"Creating training/validation data\")\n",
    "# run once for specific mixing\n",
    "#utils_data.prepare_files(dataset_path, work_path, mixing, nb_group, nb_cl)\n",
    "\n",
    "### Initialization of some variables ###\n",
    "class_means = np.zeros((512, nb_group * nb_cl, 2, nb_group))\n",
    "loss_batch = []\n",
    "files_protoset = [] * (nb_group * nb_cl)\n",
    "\n",
    "### Start of the main algorithm ###\n",
    "print('apply training algorithm...')\n",
    "feature_net = utils_resnet.Resnet(pretrained = True)\n",
    "icarl = utils_icarl.iCaRL(param, feature_net, label_dict)"
   ]
  },
  {
   "cell_type": "code",
   "execution_count": 19,
   "metadata": {},
   "outputs": [],
   "source": [
    "data = utils_data.MyDataset(work_path, 0)\n",
    "loader = DataLoader(data, batch_size = batch_size)"
   ]
  },
  {
   "cell_type": "code",
   "execution_count": 22,
   "metadata": {},
   "outputs": [
    {
     "name": "stdout",
     "output_type": "stream",
     "text": [
      "['a', 1]\n"
     ]
    }
   ],
   "source": [
    "x = 1\n",
    "a = ['a', x]\n",
    "a = str(a)\n",
    "print(a)"
   ]
  },
  {
   "cell_type": "code",
   "execution_count": null,
   "metadata": {},
   "outputs": [],
   "source": [
    "600/16"
   ]
  }
 ],
 "metadata": {
  "kernelspec": {
   "display_name": "Python (torch)",
   "language": "python",
   "name": "torch"
  },
  "language_info": {
   "codemirror_mode": {
    "name": "ipython",
    "version": 3
   },
   "file_extension": ".py",
   "mimetype": "text/x-python",
   "name": "python",
   "nbconvert_exporter": "python",
   "pygments_lexer": "ipython3",
   "version": "3.6.5"
  }
 },
 "nbformat": 4,
 "nbformat_minor": 2
}
