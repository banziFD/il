{
 "cells": [
  {
   "cell_type": "code",
   "execution_count": 1,
   "metadata": {},
   "outputs": [],
   "source": [
    "import torch\n",
    "from torch import tensor"
   ]
  },
  {
   "cell_type": "code",
   "execution_count": 2,
   "metadata": {},
   "outputs": [
    {
     "name": "stdout",
     "output_type": "stream",
     "text": [
      "-0.8187104035352912\n"
     ]
    }
   ],
   "source": [
    "# BCELoss\n",
    "x = torch.Tensor([1,0.1,0.1])\n",
    "y = torch.Tensor([1, 0, 0])\n",
    "loss = torch.nn.BCELoss(size_average = False)\n",
    "import math\n",
    "x = [0.9, 0.3, 0.3]\n",
    "y = [1,0,0]\n",
    "l = 0\n",
    "for i in range(3):\n",
    "    l = l + (y[i]*math.log(x[i]) + (1 - y[i]) * math.log(1 - x[i]))\n",
    "print(l)"
   ]
  },
  {
   "cell_type": "code",
   "execution_count": 3,
   "metadata": {},
   "outputs": [
    {
     "data": {
      "text/plain": [
       "torch.Size([10])"
      ]
     },
     "execution_count": 3,
     "metadata": {},
     "output_type": "execute_result"
    }
   ],
   "source": [
    "a = Variable(torch.ones(2, 10), requires_grad = False)\n",
    "x = torch.sum(a, dim = 0)\n",
    "x.shape"
   ]
  },
  {
   "cell_type": "code",
   "execution_count": 4,
   "metadata": {},
   "outputs": [
    {
     "name": "stdout",
     "output_type": "stream",
     "text": [
      "tensor([[ 1]])\n"
     ]
    }
   ],
   "source": [
    "a = torch.Tensor([0,1,0])\n",
    "print((a==1).nonzero())"
   ]
  },
  {
   "cell_type": "code",
   "execution_count": 5,
   "metadata": {},
   "outputs": [],
   "source": [
    "# nonzero()\n",
    "a = torch.eye(3)\n",
    "a[2,0] = 1\n",
    "a = a.nonzero()"
   ]
  },
  {
   "cell_type": "code",
   "execution_count": 7,
   "metadata": {},
   "outputs": [],
   "source": [
    "a = tensor([[1,2,3],[4,5,6]], dtype = torch.float)\n",
    "a = torch.mean(a, 0)"
   ]
  },
  {
   "cell_type": "code",
   "execution_count": 8,
   "metadata": {},
   "outputs": [],
   "source": [
    "a = torch.rand(10)\n",
    "v, i = torch.topk(a, 3)"
   ]
  },
  {
   "cell_type": "code",
   "execution_count": 9,
   "metadata": {},
   "outputs": [
    {
     "data": {
      "text/plain": [
       "tensor([[ 0,  0,  0],\n",
       "        [ 0,  0,  0],\n",
       "        [ 0,  0,  0],\n",
       "        [ 0,  1,  1],\n",
       "        [ 0,  1,  1],\n",
       "        [ 0,  1,  1]], dtype=torch.uint8)"
      ]
     },
     "execution_count": 9,
     "metadata": {},
     "output_type": "execute_result"
    }
   ],
   "source": [
    "a = torch.rand(3,3)\n",
    "b = torch.zeros(3,3)\n",
    "torch.cat((a,b), 0) == torch.tensor([1,0,0], dtype = torch.float)"
   ]
  },
  {
   "cell_type": "code",
   "execution_count": 24,
   "metadata": {},
   "outputs": [
    {
     "name": "stdout",
     "output_type": "stream",
     "text": [
      "tensor([[ 1.0000,  0.0000,  0.0000],\n",
      "        [ 0.7018,  0.0000,  0.0000],\n",
      "        [ 0.2394,  0.0000,  0.0000],\n",
      "        [ 0.2163,  0.0000,  0.0000],\n",
      "        [ 0.9227,  0.0000,  0.0000],\n",
      "        [ 0.1341,  0.0000,  0.0000]])\n",
      "tensor([ 3.2143,  0.0000,  0.0000])\n"
     ]
    },
    {
     "data": {
      "text/plain": [
       "tensor(3.2143)"
      ]
     },
     "execution_count": 24,
     "metadata": {},
     "output_type": "execute_result"
    }
   ],
   "source": [
    "a = tensor([[1,0,0]], dtype = torch.float)\n",
    "b = torch.rand(5,3)\n",
    "c = torch.cat((a, b), 0)\n",
    "known = tensor([1,0,0], dtype = torch.float)\n",
    "print(c * known)\n",
    "print(torch.sum(c * known, 0))\n",
    "torch.sum(c*known)"
   ]
  },
  {
   "cell_type": "code",
   "execution_count": 28,
   "metadata": {},
   "outputs": [
    {
     "name": "stdout",
     "output_type": "stream",
     "text": [
      "tensor([[ 1,  2,  3],\n",
      "        [ 3,  4,  5]])\n",
      "tensor([[  3,  15,   5]])\n",
      "tensor([[ 1,  2,  3],\n",
      "        [ 3,  4,  5]])\n"
     ]
    }
   ],
   "source": [
    "a = torch.tensor([[1,2,3]])\n",
    "b = torch.tensor([[3,4,5]])\n",
    "c = torch.cat((a, b), 0)"
   ]
  },
  {
   "cell_type": "code",
   "execution_count": 27,
   "metadata": {},
   "outputs": [
    {
     "name": "stdout",
     "output_type": "stream",
     "text": [
      "95214080 hello\n",
      "95214080 hello\n"
     ]
    }
   ],
   "source": [
    "import torchvision\n",
    "resnet18 = torchvision.models.resnet18(pretrained = True)\n",
    "z = torch.zeros(10, 1000).cuda()\n",
    "f = resnet18.cuda()\n",
    "for i in range(2):\n",
    "    x = torch.rand(1,3,224,224).cuda()\n",
    "    print(torch.cuda.memory_allocated(), 'hello')\n",
    "    y = f(x)\n",
    "    y = y.view(1, -1).detach()\n",
    "    z[i] = y"
   ]
  },
  {
   "cell_type": "code",
   "execution_count": 31,
   "metadata": {},
   "outputs": [],
   "source": [
    "x = torch.tensor([1])\n",
    "y = torch.tensor([2])\n",
    "f = x > y\n",
    "if f:\n",
    "    print('he')"
   ]
  },
  {
   "cell_type": "code",
   "execution_count": 38,
   "metadata": {},
   "outputs": [],
   "source": [
    "def choose_top(nb_proto,feature_mem, image_mem, image_orig_mem, class_mean):\n",
    "        assert feature_mem.shape[0] == image_mem.shape[0]\n",
    "        visited = torch.zeros(feature_mem.shape[0], dtype = torch.uint8)\n",
    "        tot = torch.zeros(feature_mem.shape[1])\n",
    "        protoset_index = []\n",
    "        for i in range(nb_proto):\n",
    "            distance = torch.tensor(float('inf'))\n",
    "            p = -1\n",
    "            for item in range(feature_mem.shape[0]):\n",
    "                if(visited[item] != 0):\n",
    "                    avg = (tot + feature_mem[i]) / (i + 1)\n",
    "                    distance_temp = torch.norm(class_mean - avg)\n",
    "                    if(distance_temp < distance):\n",
    "                        p = i\n",
    "            protoset_index.append(p)\n",
    "        index = torch.tensor(protoset_index)\n",
    "        protoset = image_mem[index].clone()\n",
    "        protoset_orig = image_orig_mem[index].clone()\n",
    "        return [protoset, protoset_orig, class_mean]"
   ]
  },
  {
   "cell_type": "code",
   "execution_count": 39,
   "metadata": {},
   "outputs": [],
   "source": [
    "feature_mem = torch.rand(50,512)\n",
    "image_mem = torch.randn(50, 3, 224, 224)\n",
    "image_orig_mem = torch.randn(50, 3, 32, 32)\n",
    "class_mean = torch.rand(512)\n",
    "x = choose_top(3, feature_mem, image_mem, image_orig_mem, class_mean)"
   ]
  },
  {
   "cell_type": "code",
   "execution_count": 8,
   "metadata": {},
   "outputs": [],
   "source": [
    "a = torch.rand((3, 3))"
   ]
  },
  {
   "cell_type": "code",
   "execution_count": 9,
   "metadata": {},
   "outputs": [
    {
     "data": {
      "text/plain": [
       "torch.float32"
      ]
     },
     "execution_count": 9,
     "metadata": {},
     "output_type": "execute_result"
    }
   ],
   "source": [
    "a.dtype"
   ]
  },
  {
   "cell_type": "code",
   "execution_count": 10,
   "metadata": {},
   "outputs": [],
   "source": [
    "a = a.double()"
   ]
  },
  {
   "cell_type": "code",
   "execution_count": 11,
   "metadata": {},
   "outputs": [
    {
     "data": {
      "text/plain": [
       "torch.float64"
      ]
     },
     "execution_count": 11,
     "metadata": {},
     "output_type": "execute_result"
    }
   ],
   "source": [
    "a.dtype"
   ]
  },
  {
   "cell_type": "code",
   "execution_count": 12,
   "metadata": {},
   "outputs": [
    {
     "data": {
      "text/plain": [
       "tensor(0.5507, dtype=torch.float64)"
      ]
     },
     "execution_count": 12,
     "metadata": {},
     "output_type": "execute_result"
    }
   ],
   "source": [
    "torch.mean(a)"
   ]
  },
  {
   "cell_type": "code",
   "execution_count": null,
   "metadata": {},
   "outputs": [],
   "source": []
  }
 ],
 "metadata": {
  "kernelspec": {
   "display_name": "Python (torch)",
   "language": "python",
   "name": "torch"
  },
  "language_info": {
   "codemirror_mode": {
    "name": "ipython",
    "version": 3
   },
   "file_extension": ".py",
   "mimetype": "text/x-python",
   "name": "python",
   "nbconvert_exporter": "python",
   "pygments_lexer": "ipython3",
   "version": "3.6.5"
  }
 },
 "nbformat": 4,
 "nbformat_minor": 2
}
